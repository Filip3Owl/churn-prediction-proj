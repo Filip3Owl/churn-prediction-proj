{
 "cells": [
  {
   "cell_type": "markdown",
   "id": "763d323e",
   "metadata": {},
   "source": [
    "# Machine Learning Model - cable TV cancellation sales forecast\n",
    "\n",
    "### What I will do:\n",
    "\n",
    "- Exploratory analysis of categorical and numerical variables using various graphs;\n",
    "- Data processing and attribute engineering;\n",
    "- Identify and test for outliers and missing values;\n",
    "- Using functions from the Pandas package;\n",
    "- One hot encoding and data standardization;\n",
    "- Create, train, and evaluate the machine learning algorithm."
   ]
  },
  {
   "cell_type": "code",
   "execution_count": 1,
   "id": "163e9ef8",
   "metadata": {},
   "outputs": [],
   "source": [
    "#importing libraries\n",
    "\n",
    "import numpy as np # numerical operations\n",
    "import pandas as pd # data manipulation and analysis\n",
    "import time # time tracking\n",
    "import matplotlib.pyplot as plt # data visualization\n",
    "import seaborn as sns # statistical data visualization\n",
    "from sklearn.model_selection import train_test_split # splitting datasets\n",
    "from sklearn.preprocessing import StandardScaler # feature scaling\n",
    "from sklearn.preprocessing import LabelEncoder # encoding categorical variables\n",
    "from sklearn.metrics import accuracy_score # model evaluation\n",
    "from sklearn.neighbors import KNeighborsClassifier # K-Nearest Neighbors algorithm\n",
    "from imblearn import under_sampling, over_sampling # handling imbalanced datasets\n",
    "from imblearn.over_sampling import SMOTE # Synthetic Minority Over-sampling Technique\n",
    "\n",
    "import warnings # suppressing warnings\n",
    "warnings.filterwarnings('ignore') # setting display options for pandas\n",
    "pd.set_option('display.max_columns', None) # show all columns in DataFrame\n",
    "pd.set_option('display.max_rows', None) # show all rows in DataFrame"
   ]
  },
  {
   "cell_type": "markdown",
   "id": "4f8d1570",
   "metadata": {},
   "source": [
    "## data collection\n",
    "\n",
    "I will use a .csv file."
   ]
  },
  {
   "cell_type": "code",
   "execution_count": 2,
   "id": "be3563a7",
   "metadata": {},
   "outputs": [],
   "source": [
    "primary_dataframe = pd.read_csv('../data/data.csv', sep=';') # reading the dataset"
   ]
  },
  {
   "cell_type": "markdown",
   "id": "a409199d",
   "metadata": {},
   "source": [
    "## exploratory analysis\n",
    "\n",
    "Check categorical and numeric variables and identify the data that needs to be processed."
   ]
  },
  {
   "cell_type": "code",
   "execution_count": 3,
   "id": "2c7a0c5e",
   "metadata": {},
   "outputs": [
    {
     "data": {
      "text/plain": [
       "(448447, 24)"
      ]
     },
     "execution_count": 3,
     "metadata": {},
     "output_type": "execute_result"
    }
   ],
   "source": [
    "primary_dataframe.shape # checking the shape of the DataFrame"
   ]
  },
  {
   "cell_type": "code",
   "execution_count": 4,
   "id": "95b8b800",
   "metadata": {},
   "outputs": [
    {
     "data": {
      "text/html": [
       "<div>\n",
       "<style scoped>\n",
       "    .dataframe tbody tr th:only-of-type {\n",
       "        vertical-align: middle;\n",
       "    }\n",
       "\n",
       "    .dataframe tbody tr th {\n",
       "        vertical-align: top;\n",
       "    }\n",
       "\n",
       "    .dataframe thead th {\n",
       "        text-align: right;\n",
       "    }\n",
       "</style>\n",
       "<table border=\"1\" class=\"dataframe\">\n",
       "  <thead>\n",
       "    <tr style=\"text-align: right;\">\n",
       "      <th></th>\n",
       "      <th>ID_CLIENTE</th>\n",
       "      <th>FORMA_AQUISICAO</th>\n",
       "      <th>IDADE_CLIENTE</th>\n",
       "      <th>SEXO</th>\n",
       "      <th>QT_FILHOS</th>\n",
       "      <th>DT_AQUISICAO</th>\n",
       "      <th>DT_CANCELAMENTO</th>\n",
       "      <th>DIAS_ATIVO</th>\n",
       "      <th>MESES_ATIVO</th>\n",
       "      <th>DURACAO_CONTRATO</th>\n",
       "      <th>VL_PLANO_ADESAO</th>\n",
       "      <th>VL_PLANO_ATUAL</th>\n",
       "      <th>NOME_PRODUTO</th>\n",
       "      <th>QT_PONTOS_INSTALADOS</th>\n",
       "      <th>QT_PC_PAGAS</th>\n",
       "      <th>QT_PC_VENCIDAS</th>\n",
       "      <th>QT_PC_PAGA_ATRASO</th>\n",
       "      <th>QT_PC_PAGA_EM_DIA</th>\n",
       "      <th>QT_ACORDO_PAGAMENTO</th>\n",
       "      <th>VL_MENSALIDADE_ATRASO</th>\n",
       "      <th>VL_MENSALIDADE_DT_AQUISICAO</th>\n",
       "      <th>VL_MENSALIDADE_DT_ATUAL</th>\n",
       "      <th>SITUACAO</th>\n",
       "      <th>COD_SITUACAO</th>\n",
       "    </tr>\n",
       "  </thead>\n",
       "  <tbody>\n",
       "    <tr>\n",
       "      <th>0</th>\n",
       "      <td>1</td>\n",
       "      <td>Site</td>\n",
       "      <td>23</td>\n",
       "      <td>MASCULINO</td>\n",
       "      <td>0.0</td>\n",
       "      <td>18/06/2021</td>\n",
       "      <td>NaN</td>\n",
       "      <td>33</td>\n",
       "      <td>1</td>\n",
       "      <td>48 Meses</td>\n",
       "      <td>450</td>\n",
       "      <td>518</td>\n",
       "      <td>PLANO FAMILIA (100 CANAIS HD)</td>\n",
       "      <td>1</td>\n",
       "      <td>1</td>\n",
       "      <td>4</td>\n",
       "      <td>0</td>\n",
       "      <td>1</td>\n",
       "      <td>1</td>\n",
       "      <td>2070</td>\n",
       "      <td>450</td>\n",
       "      <td>518</td>\n",
       "      <td>ATIVO</td>\n",
       "      <td>0</td>\n",
       "    </tr>\n",
       "    <tr>\n",
       "      <th>1</th>\n",
       "      <td>2</td>\n",
       "      <td>Vendedor</td>\n",
       "      <td>24</td>\n",
       "      <td>FEMININO</td>\n",
       "      <td>0.0</td>\n",
       "      <td>10/04/2018</td>\n",
       "      <td>NaN</td>\n",
       "      <td>1198</td>\n",
       "      <td>39</td>\n",
       "      <td>48 Meses</td>\n",
       "      <td>230</td>\n",
       "      <td>265</td>\n",
       "      <td>PLANO BASICO (30 CANAIS HD)</td>\n",
       "      <td>2</td>\n",
       "      <td>5</td>\n",
       "      <td>0</td>\n",
       "      <td>1</td>\n",
       "      <td>4</td>\n",
       "      <td>0</td>\n",
       "      <td>0</td>\n",
       "      <td>230</td>\n",
       "      <td>265</td>\n",
       "      <td>ATIVO</td>\n",
       "      <td>0</td>\n",
       "    </tr>\n",
       "    <tr>\n",
       "      <th>2</th>\n",
       "      <td>3</td>\n",
       "      <td>Site</td>\n",
       "      <td>25</td>\n",
       "      <td>MASCULINO</td>\n",
       "      <td>0.0</td>\n",
       "      <td>09/10/2020</td>\n",
       "      <td>NaN</td>\n",
       "      <td>285</td>\n",
       "      <td>9</td>\n",
       "      <td>48 Meses</td>\n",
       "      <td>290</td>\n",
       "      <td>334</td>\n",
       "      <td>PLANO BASICO PLUS (50 CANAIS HD)</td>\n",
       "      <td>3</td>\n",
       "      <td>5</td>\n",
       "      <td>0</td>\n",
       "      <td>3</td>\n",
       "      <td>2</td>\n",
       "      <td>0</td>\n",
       "      <td>0</td>\n",
       "      <td>290</td>\n",
       "      <td>334</td>\n",
       "      <td>ATIVO</td>\n",
       "      <td>0</td>\n",
       "    </tr>\n",
       "    <tr>\n",
       "      <th>3</th>\n",
       "      <td>4</td>\n",
       "      <td>Vendedor</td>\n",
       "      <td>26</td>\n",
       "      <td>FEMININO</td>\n",
       "      <td>17.0</td>\n",
       "      <td>25/06/2019</td>\n",
       "      <td>NaN</td>\n",
       "      <td>757</td>\n",
       "      <td>25</td>\n",
       "      <td>48 Meses</td>\n",
       "      <td>230</td>\n",
       "      <td>265</td>\n",
       "      <td>PLANO BASICO (30 CANAIS HD)</td>\n",
       "      <td>1</td>\n",
       "      <td>5</td>\n",
       "      <td>0</td>\n",
       "      <td>1</td>\n",
       "      <td>4</td>\n",
       "      <td>0</td>\n",
       "      <td>0</td>\n",
       "      <td>230</td>\n",
       "      <td>265</td>\n",
       "      <td>ATIVO</td>\n",
       "      <td>0</td>\n",
       "    </tr>\n",
       "    <tr>\n",
       "      <th>4</th>\n",
       "      <td>5</td>\n",
       "      <td>Vendedor</td>\n",
       "      <td>27</td>\n",
       "      <td>MASCULINO</td>\n",
       "      <td>0.0</td>\n",
       "      <td>19/09/2019</td>\n",
       "      <td>NaN</td>\n",
       "      <td>671</td>\n",
       "      <td>22</td>\n",
       "      <td>48 Meses</td>\n",
       "      <td>230</td>\n",
       "      <td>265</td>\n",
       "      <td>PLANO BASICO (30 CANAIS HD)</td>\n",
       "      <td>2</td>\n",
       "      <td>5</td>\n",
       "      <td>0</td>\n",
       "      <td>5</td>\n",
       "      <td>0</td>\n",
       "      <td>0</td>\n",
       "      <td>0</td>\n",
       "      <td>230</td>\n",
       "      <td>265</td>\n",
       "      <td>ATIVO</td>\n",
       "      <td>0</td>\n",
       "    </tr>\n",
       "  </tbody>\n",
       "</table>\n",
       "</div>"
      ],
      "text/plain": [
       "   ID_CLIENTE FORMA_AQUISICAO  IDADE_CLIENTE       SEXO  QT_FILHOS  \\\n",
       "0           1            Site             23  MASCULINO        0.0   \n",
       "1           2        Vendedor             24   FEMININO        0.0   \n",
       "2           3            Site             25  MASCULINO        0.0   \n",
       "3           4        Vendedor             26   FEMININO       17.0   \n",
       "4           5        Vendedor             27  MASCULINO        0.0   \n",
       "\n",
       "  DT_AQUISICAO DT_CANCELAMENTO  DIAS_ATIVO  MESES_ATIVO DURACAO_CONTRATO  \\\n",
       "0   18/06/2021             NaN          33            1         48 Meses   \n",
       "1   10/04/2018             NaN        1198           39         48 Meses   \n",
       "2   09/10/2020             NaN         285            9         48 Meses   \n",
       "3   25/06/2019             NaN         757           25         48 Meses   \n",
       "4   19/09/2019             NaN         671           22         48 Meses   \n",
       "\n",
       "   VL_PLANO_ADESAO  VL_PLANO_ATUAL                      NOME_PRODUTO  \\\n",
       "0              450             518     PLANO FAMILIA (100 CANAIS HD)   \n",
       "1              230             265       PLANO BASICO (30 CANAIS HD)   \n",
       "2              290             334  PLANO BASICO PLUS (50 CANAIS HD)   \n",
       "3              230             265       PLANO BASICO (30 CANAIS HD)   \n",
       "4              230             265       PLANO BASICO (30 CANAIS HD)   \n",
       "\n",
       "   QT_PONTOS_INSTALADOS  QT_PC_PAGAS  QT_PC_VENCIDAS  QT_PC_PAGA_ATRASO  \\\n",
       "0                     1            1               4                  0   \n",
       "1                     2            5               0                  1   \n",
       "2                     3            5               0                  3   \n",
       "3                     1            5               0                  1   \n",
       "4                     2            5               0                  5   \n",
       "\n",
       "   QT_PC_PAGA_EM_DIA  QT_ACORDO_PAGAMENTO  VL_MENSALIDADE_ATRASO  \\\n",
       "0                  1                    1                   2070   \n",
       "1                  4                    0                      0   \n",
       "2                  2                    0                      0   \n",
       "3                  4                    0                      0   \n",
       "4                  0                    0                      0   \n",
       "\n",
       "   VL_MENSALIDADE_DT_AQUISICAO  VL_MENSALIDADE_DT_ATUAL SITUACAO  COD_SITUACAO  \n",
       "0                          450                      518    ATIVO             0  \n",
       "1                          230                      265    ATIVO             0  \n",
       "2                          290                      334    ATIVO             0  \n",
       "3                          230                      265    ATIVO             0  \n",
       "4                          230                      265    ATIVO             0  "
      ]
     },
     "execution_count": 4,
     "metadata": {},
     "output_type": "execute_result"
    }
   ],
   "source": [
    "primary_dataframe.head() # displaying the first few rows of the DataFrame"
   ]
  },
  {
   "cell_type": "code",
   "execution_count": 5,
   "id": "60a75109",
   "metadata": {},
   "outputs": [
    {
     "name": "stdout",
     "output_type": "stream",
     "text": [
      "<class 'pandas.core.frame.DataFrame'>\n",
      "RangeIndex: 448447 entries, 0 to 448446\n",
      "Data columns (total 24 columns):\n",
      " #   Column                       Non-Null Count   Dtype  \n",
      "---  ------                       --------------   -----  \n",
      " 0   ID_CLIENTE                   448447 non-null  int64  \n",
      " 1   FORMA_AQUISICAO              448447 non-null  object \n",
      " 2   IDADE_CLIENTE                448447 non-null  int64  \n",
      " 3   SEXO                         448447 non-null  object \n",
      " 4   QT_FILHOS                    448193 non-null  float64\n",
      " 5   DT_AQUISICAO                 448447 non-null  object \n",
      " 6   DT_CANCELAMENTO              117455 non-null  object \n",
      " 7   DIAS_ATIVO                   448447 non-null  int64  \n",
      " 8   MESES_ATIVO                  448447 non-null  int64  \n",
      " 9   DURACAO_CONTRATO             448447 non-null  object \n",
      " 10  VL_PLANO_ADESAO              448447 non-null  int64  \n",
      " 11  VL_PLANO_ATUAL               448447 non-null  int64  \n",
      " 12  NOME_PRODUTO                 448447 non-null  object \n",
      " 13  QT_PONTOS_INSTALADOS         448447 non-null  int64  \n",
      " 14  QT_PC_PAGAS                  448447 non-null  int64  \n",
      " 15  QT_PC_VENCIDAS               448447 non-null  int64  \n",
      " 16  QT_PC_PAGA_ATRASO            448447 non-null  int64  \n",
      " 17  QT_PC_PAGA_EM_DIA            448447 non-null  int64  \n",
      " 18  QT_ACORDO_PAGAMENTO          448447 non-null  int64  \n",
      " 19  VL_MENSALIDADE_ATRASO        448447 non-null  int64  \n",
      " 20  VL_MENSALIDADE_DT_AQUISICAO  448447 non-null  int64  \n",
      " 21  VL_MENSALIDADE_DT_ATUAL      448447 non-null  int64  \n",
      " 22  SITUACAO                     448447 non-null  object \n",
      " 23  COD_SITUACAO                 448447 non-null  int64  \n",
      "dtypes: float64(1), int64(16), object(7)\n",
      "memory usage: 82.1+ MB\n"
     ]
    }
   ],
   "source": [
    "primary_dataframe.info() # displaying information about the DataFrame"
   ]
  },
  {
   "cell_type": "code",
   "execution_count": 6,
   "id": "7251efca",
   "metadata": {},
   "outputs": [
    {
     "name": "stdout",
     "output_type": "stream",
     "text": [
      "Data collected from 2001-01-01 to 2021-06-29\n"
     ]
    }
   ],
   "source": [
    "#analysis of the period in which the data were collected\n",
    "start = pd.to_datetime(primary_dataframe['DT_AQUISICAO']).dt.date.min() #extracting the date from the 'DT-ARQUISIÇÃO' column\n",
    "end = pd.to_datetime(primary_dataframe['DT_AQUISICAO']).dt.date.max() #extracting the date from \n",
    "print(f'Data collected from {start} to {end}') # printing the date range of the data collection"
   ]
  },
  {
   "cell_type": "code",
   "execution_count": 7,
   "id": "a0d27ac4",
   "metadata": {},
   "outputs": [
    {
     "data": {
      "text/html": [
       "<div>\n",
       "<style scoped>\n",
       "    .dataframe tbody tr th:only-of-type {\n",
       "        vertical-align: middle;\n",
       "    }\n",
       "\n",
       "    .dataframe tbody tr th {\n",
       "        vertical-align: top;\n",
       "    }\n",
       "\n",
       "    .dataframe thead th {\n",
       "        text-align: right;\n",
       "    }\n",
       "</style>\n",
       "<table border=\"1\" class=\"dataframe\">\n",
       "  <thead>\n",
       "    <tr style=\"text-align: right;\">\n",
       "      <th></th>\n",
       "      <th>ID_CLIENTE</th>\n",
       "      <th>IDADE_CLIENTE</th>\n",
       "      <th>QT_FILHOS</th>\n",
       "      <th>DIAS_ATIVO</th>\n",
       "      <th>MESES_ATIVO</th>\n",
       "      <th>VL_PLANO_ADESAO</th>\n",
       "      <th>VL_PLANO_ATUAL</th>\n",
       "      <th>QT_PONTOS_INSTALADOS</th>\n",
       "      <th>QT_PC_PAGAS</th>\n",
       "      <th>QT_PC_VENCIDAS</th>\n",
       "      <th>QT_PC_PAGA_ATRASO</th>\n",
       "      <th>QT_PC_PAGA_EM_DIA</th>\n",
       "      <th>QT_ACORDO_PAGAMENTO</th>\n",
       "      <th>VL_MENSALIDADE_ATRASO</th>\n",
       "      <th>VL_MENSALIDADE_DT_AQUISICAO</th>\n",
       "      <th>VL_MENSALIDADE_DT_ATUAL</th>\n",
       "      <th>COD_SITUACAO</th>\n",
       "    </tr>\n",
       "  </thead>\n",
       "  <tbody>\n",
       "    <tr>\n",
       "      <th>count</th>\n",
       "      <td>448447.000000</td>\n",
       "      <td>448447.000000</td>\n",
       "      <td>448193.000000</td>\n",
       "      <td>448447.000000</td>\n",
       "      <td>448447.000000</td>\n",
       "      <td>448447.000000</td>\n",
       "      <td>448447.000000</td>\n",
       "      <td>448447.000000</td>\n",
       "      <td>448447.000000</td>\n",
       "      <td>448447.000000</td>\n",
       "      <td>448447.000000</td>\n",
       "      <td>448447.000000</td>\n",
       "      <td>448447.000000</td>\n",
       "      <td>448447.000000</td>\n",
       "      <td>448447.000000</td>\n",
       "      <td>448447.000000</td>\n",
       "      <td>448447.000000</td>\n",
       "    </tr>\n",
       "    <tr>\n",
       "      <th>mean</th>\n",
       "      <td>224224.000000</td>\n",
       "      <td>38.891140</td>\n",
       "      <td>1.526385</td>\n",
       "      <td>483.857783</td>\n",
       "      <td>15.772457</td>\n",
       "      <td>303.769386</td>\n",
       "      <td>349.798596</td>\n",
       "      <td>1.625269</td>\n",
       "      <td>3.917281</td>\n",
       "      <td>1.019175</td>\n",
       "      <td>0.563596</td>\n",
       "      <td>3.353685</td>\n",
       "      <td>0.188029</td>\n",
       "      <td>337.364498</td>\n",
       "      <td>303.769386</td>\n",
       "      <td>349.798596</td>\n",
       "      <td>0.261915</td>\n",
       "    </tr>\n",
       "    <tr>\n",
       "      <th>std</th>\n",
       "      <td>129455.642421</td>\n",
       "      <td>6.682351</td>\n",
       "      <td>0.504288</td>\n",
       "      <td>373.649523</td>\n",
       "      <td>12.252344</td>\n",
       "      <td>113.612746</td>\n",
       "      <td>130.560943</td>\n",
       "      <td>0.579956</td>\n",
       "      <td>1.460079</td>\n",
       "      <td>1.474442</td>\n",
       "      <td>0.886314</td>\n",
       "      <td>1.586924</td>\n",
       "      <td>0.423095</td>\n",
       "      <td>525.953927</td>\n",
       "      <td>113.612746</td>\n",
       "      <td>130.560943</td>\n",
       "      <td>0.439677</td>\n",
       "    </tr>\n",
       "    <tr>\n",
       "      <th>min</th>\n",
       "      <td>1.000000</td>\n",
       "      <td>23.000000</td>\n",
       "      <td>0.000000</td>\n",
       "      <td>22.000000</td>\n",
       "      <td>1.000000</td>\n",
       "      <td>230.000000</td>\n",
       "      <td>265.000000</td>\n",
       "      <td>1.000000</td>\n",
       "      <td>0.000000</td>\n",
       "      <td>0.000000</td>\n",
       "      <td>0.000000</td>\n",
       "      <td>0.000000</td>\n",
       "      <td>0.000000</td>\n",
       "      <td>0.000000</td>\n",
       "      <td>230.000000</td>\n",
       "      <td>265.000000</td>\n",
       "      <td>0.000000</td>\n",
       "    </tr>\n",
       "    <tr>\n",
       "      <th>25%</th>\n",
       "      <td>112112.500000</td>\n",
       "      <td>35.000000</td>\n",
       "      <td>1.000000</td>\n",
       "      <td>167.000000</td>\n",
       "      <td>5.000000</td>\n",
       "      <td>230.000000</td>\n",
       "      <td>265.000000</td>\n",
       "      <td>1.000000</td>\n",
       "      <td>3.000000</td>\n",
       "      <td>0.000000</td>\n",
       "      <td>0.000000</td>\n",
       "      <td>2.000000</td>\n",
       "      <td>0.000000</td>\n",
       "      <td>0.000000</td>\n",
       "      <td>230.000000</td>\n",
       "      <td>265.000000</td>\n",
       "      <td>0.000000</td>\n",
       "    </tr>\n",
       "    <tr>\n",
       "      <th>50%</th>\n",
       "      <td>224224.000000</td>\n",
       "      <td>40.000000</td>\n",
       "      <td>2.000000</td>\n",
       "      <td>329.000000</td>\n",
       "      <td>11.000000</td>\n",
       "      <td>230.000000</td>\n",
       "      <td>265.000000</td>\n",
       "      <td>2.000000</td>\n",
       "      <td>4.000000</td>\n",
       "      <td>0.000000</td>\n",
       "      <td>0.000000</td>\n",
       "      <td>4.000000</td>\n",
       "      <td>0.000000</td>\n",
       "      <td>0.000000</td>\n",
       "      <td>230.000000</td>\n",
       "      <td>265.000000</td>\n",
       "      <td>0.000000</td>\n",
       "    </tr>\n",
       "    <tr>\n",
       "      <th>75%</th>\n",
       "      <td>336335.500000</td>\n",
       "      <td>43.000000</td>\n",
       "      <td>2.000000</td>\n",
       "      <td>798.000000</td>\n",
       "      <td>26.000000</td>\n",
       "      <td>350.000000</td>\n",
       "      <td>403.000000</td>\n",
       "      <td>2.000000</td>\n",
       "      <td>5.000000</td>\n",
       "      <td>2.000000</td>\n",
       "      <td>1.000000</td>\n",
       "      <td>5.000000</td>\n",
       "      <td>0.000000</td>\n",
       "      <td>794.000000</td>\n",
       "      <td>350.000000</td>\n",
       "      <td>403.000000</td>\n",
       "      <td>1.000000</td>\n",
       "    </tr>\n",
       "    <tr>\n",
       "      <th>max</th>\n",
       "      <td>448447.000000</td>\n",
       "      <td>55.000000</td>\n",
       "      <td>25.000000</td>\n",
       "      <td>1296.000000</td>\n",
       "      <td>42.000000</td>\n",
       "      <td>600.000000</td>\n",
       "      <td>690.000000</td>\n",
       "      <td>3.000000</td>\n",
       "      <td>100.000000</td>\n",
       "      <td>38.000000</td>\n",
       "      <td>17.000000</td>\n",
       "      <td>100.000000</td>\n",
       "      <td>5.000000</td>\n",
       "      <td>16043.000000</td>\n",
       "      <td>600.000000</td>\n",
       "      <td>690.000000</td>\n",
       "      <td>1.000000</td>\n",
       "    </tr>\n",
       "  </tbody>\n",
       "</table>\n",
       "</div>"
      ],
      "text/plain": [
       "          ID_CLIENTE  IDADE_CLIENTE      QT_FILHOS     DIAS_ATIVO  \\\n",
       "count  448447.000000  448447.000000  448193.000000  448447.000000   \n",
       "mean   224224.000000      38.891140       1.526385     483.857783   \n",
       "std    129455.642421       6.682351       0.504288     373.649523   \n",
       "min         1.000000      23.000000       0.000000      22.000000   \n",
       "25%    112112.500000      35.000000       1.000000     167.000000   \n",
       "50%    224224.000000      40.000000       2.000000     329.000000   \n",
       "75%    336335.500000      43.000000       2.000000     798.000000   \n",
       "max    448447.000000      55.000000      25.000000    1296.000000   \n",
       "\n",
       "         MESES_ATIVO  VL_PLANO_ADESAO  VL_PLANO_ATUAL  QT_PONTOS_INSTALADOS  \\\n",
       "count  448447.000000    448447.000000   448447.000000         448447.000000   \n",
       "mean       15.772457       303.769386      349.798596              1.625269   \n",
       "std        12.252344       113.612746      130.560943              0.579956   \n",
       "min         1.000000       230.000000      265.000000              1.000000   \n",
       "25%         5.000000       230.000000      265.000000              1.000000   \n",
       "50%        11.000000       230.000000      265.000000              2.000000   \n",
       "75%        26.000000       350.000000      403.000000              2.000000   \n",
       "max        42.000000       600.000000      690.000000              3.000000   \n",
       "\n",
       "         QT_PC_PAGAS  QT_PC_VENCIDAS  QT_PC_PAGA_ATRASO  QT_PC_PAGA_EM_DIA  \\\n",
       "count  448447.000000   448447.000000      448447.000000      448447.000000   \n",
       "mean        3.917281        1.019175           0.563596           3.353685   \n",
       "std         1.460079        1.474442           0.886314           1.586924   \n",
       "min         0.000000        0.000000           0.000000           0.000000   \n",
       "25%         3.000000        0.000000           0.000000           2.000000   \n",
       "50%         4.000000        0.000000           0.000000           4.000000   \n",
       "75%         5.000000        2.000000           1.000000           5.000000   \n",
       "max       100.000000       38.000000          17.000000         100.000000   \n",
       "\n",
       "       QT_ACORDO_PAGAMENTO  VL_MENSALIDADE_ATRASO  \\\n",
       "count        448447.000000          448447.000000   \n",
       "mean              0.188029             337.364498   \n",
       "std               0.423095             525.953927   \n",
       "min               0.000000               0.000000   \n",
       "25%               0.000000               0.000000   \n",
       "50%               0.000000               0.000000   \n",
       "75%               0.000000             794.000000   \n",
       "max               5.000000           16043.000000   \n",
       "\n",
       "       VL_MENSALIDADE_DT_AQUISICAO  VL_MENSALIDADE_DT_ATUAL   COD_SITUACAO  \n",
       "count                448447.000000            448447.000000  448447.000000  \n",
       "mean                    303.769386               349.798596       0.261915  \n",
       "std                     113.612746               130.560943       0.439677  \n",
       "min                     230.000000               265.000000       0.000000  \n",
       "25%                     230.000000               265.000000       0.000000  \n",
       "50%                     230.000000               265.000000       0.000000  \n",
       "75%                     350.000000               403.000000       1.000000  \n",
       "max                     600.000000               690.000000       1.000000  "
      ]
     },
     "execution_count": 7,
     "metadata": {},
     "output_type": "execute_result"
    }
   ],
   "source": [
    "primary_dataframe.describe() # displaying descriptive statistics of the DataFrame"
   ]
  },
  {
   "cell_type": "code",
   "execution_count": 8,
   "id": "16f70a25",
   "metadata": {},
   "outputs": [
    {
     "name": "stdout",
     "output_type": "stream",
     "text": [
      "ID_CLIENTE                          0\n",
      "FORMA_AQUISICAO                     0\n",
      "IDADE_CLIENTE                       0\n",
      "SEXO                                0\n",
      "QT_FILHOS                         254\n",
      "DT_AQUISICAO                        0\n",
      "DT_CANCELAMENTO                330992\n",
      "DIAS_ATIVO                          0\n",
      "MESES_ATIVO                         0\n",
      "DURACAO_CONTRATO                    0\n",
      "VL_PLANO_ADESAO                     0\n",
      "VL_PLANO_ATUAL                      0\n",
      "NOME_PRODUTO                        0\n",
      "QT_PONTOS_INSTALADOS                0\n",
      "QT_PC_PAGAS                         0\n",
      "QT_PC_VENCIDAS                      0\n",
      "QT_PC_PAGA_ATRASO                   0\n",
      "QT_PC_PAGA_EM_DIA                   0\n",
      "QT_ACORDO_PAGAMENTO                 0\n",
      "VL_MENSALIDADE_ATRASO               0\n",
      "VL_MENSALIDADE_DT_AQUISICAO         0\n",
      "VL_MENSALIDADE_DT_ATUAL             0\n",
      "SITUACAO                            0\n",
      "COD_SITUACAO                        0\n",
      "dtype: int64\n"
     ]
    }
   ],
   "source": [
    "print(primary_dataframe.isnull().sum()) # checking for missing values in the DataFrame"
   ]
  },
  {
   "cell_type": "code",
   "execution_count": 9,
   "id": "7d479aca",
   "metadata": {},
   "outputs": [
    {
     "data": {
      "text/plain": [
       "ID_CLIENTE                     448447\n",
       "FORMA_AQUISICAO                     2\n",
       "IDADE_CLIENTE                      33\n",
       "SEXO                                2\n",
       "QT_FILHOS                           7\n",
       "DT_AQUISICAO                     5888\n",
       "DT_CANCELAMENTO                  5304\n",
       "DIAS_ATIVO                       1051\n",
       "MESES_ATIVO                        42\n",
       "DURACAO_CONTRATO                    4\n",
       "VL_PLANO_ADESAO                     6\n",
       "VL_PLANO_ATUAL                      6\n",
       "NOME_PRODUTO                        6\n",
       "QT_PONTOS_INSTALADOS                3\n",
       "QT_PC_PAGAS                        31\n",
       "QT_PC_VENCIDAS                     31\n",
       "QT_PC_PAGA_ATRASO                   9\n",
       "QT_PC_PAGA_EM_DIA                  30\n",
       "QT_ACORDO_PAGAMENTO                 6\n",
       "VL_MENSALIDADE_ATRASO              80\n",
       "VL_MENSALIDADE_DT_AQUISICAO         6\n",
       "VL_MENSALIDADE_DT_ATUAL             6\n",
       "SITUACAO                            2\n",
       "COD_SITUACAO                        2\n",
       "dtype: int64"
      ]
     },
     "execution_count": 9,
     "metadata": {},
     "output_type": "execute_result"
    }
   ],
   "source": [
    "primary_dataframe.nunique() # displaying unique values in the DataFrame"
   ]
  },
  {
   "cell_type": "markdown",
   "id": "3ee61cbc",
   "metadata": {},
   "source": [
    "### Analysis of categorical variables"
   ]
  },
  {
   "cell_type": "code",
   "execution_count": 10,
   "id": "510b2ba2",
   "metadata": {},
   "outputs": [
    {
     "data": {
      "text/plain": [
       "FORMA_AQUISICAO\n",
       "Site        321376\n",
       "Vendedor    127071\n",
       "dtype: int64"
      ]
     },
     "execution_count": 10,
     "metadata": {},
     "output_type": "execute_result"
    }
   ],
   "source": [
    "primary_dataframe.groupby(['FORMA_AQUISICAO']).size() # grouping by 'FORMA_AQUISICAO' and counting occurrences"
   ]
  },
  {
   "cell_type": "code",
   "execution_count": 11,
   "id": "58b38a15",
   "metadata": {},
   "outputs": [
    {
     "data": {
      "text/plain": [
       "SEXO\n",
       "FEMININO     224223\n",
       "MASCULINO    224224\n",
       "dtype: int64"
      ]
     },
     "execution_count": 11,
     "metadata": {},
     "output_type": "execute_result"
    }
   ],
   "source": [
    "primary_dataframe.groupby(['SEXO']).size() # grouping by 'SEXO' and counting occurrences"
   ]
  },
  {
   "cell_type": "code",
   "execution_count": 12,
   "id": "9bb774c4",
   "metadata": {},
   "outputs": [
    {
     "data": {
      "text/plain": [
       "DURACAO_CONTRATO\n",
       "12 Meses       195\n",
       "24 Meses       235\n",
       "36 Meses     31889\n",
       "48 Meses    416128\n",
       "dtype: int64"
      ]
     },
     "execution_count": 12,
     "metadata": {},
     "output_type": "execute_result"
    }
   ],
   "source": [
    "primary_dataframe.groupby(['DURACAO_CONTRATO']).size() # grouping by 'DURACAO_CONTRATO' and counting occurrences"
   ]
  },
  {
   "cell_type": "code",
   "execution_count": 13,
   "id": "d5751238",
   "metadata": {},
   "outputs": [
    {
     "data": {
      "text/plain": [
       "NOME_PRODUTO\n",
       "PLANO BASICO (30 CANAIS HD)         285209\n",
       "PLANO BASICO PLUS (50 CANAIS HD)      8835\n",
       "PLANO FAMILIA (100 CANAIS HD)        59716\n",
       "PLANO MEDIO A (60 CANAIS HD)         62221\n",
       "PLANO MEDIO TOP (90 CANAIS HD)         295\n",
       "PLANO PREMIUM TOTAL                  32171\n",
       "dtype: int64"
      ]
     },
     "execution_count": 13,
     "metadata": {},
     "output_type": "execute_result"
    }
   ],
   "source": [
    "primary_dataframe.groupby(['NOME_PRODUTO']).size() # grouping by 'NOME_PRODUTO' and counting occurrences"
   ]
  },
  {
   "cell_type": "code",
   "execution_count": 14,
   "id": "b3595da3",
   "metadata": {},
   "outputs": [
    {
     "data": {
      "text/plain": [
       "SITUACAO\n",
       "ATIVO        330992\n",
       "CANCELADO    117455\n",
       "dtype: int64"
      ]
     },
     "execution_count": 14,
     "metadata": {},
     "output_type": "execute_result"
    }
   ],
   "source": [
    "primary_dataframe.groupby(['SITUACAO']).size() # grouping by 'SITUACAO' and counting occurrences"
   ]
  },
  {
   "cell_type": "code",
   "execution_count": null,
   "id": "c5bb60c8",
   "metadata": {},
   "outputs": [],
   "source": [
    "#Analyzing the relationship between FORMA_AQUISICAO and SEX variables with the TARGET variable\n",
    "#The analysis shows no significant differences or patterns in these variables\n",
    "\n",
    "plt.rcParams['figure.figsize'] = (10, 3) # setting figure size for plots\n",
    "plt.rcParams['axes.grid'] = True # enabling grid for better readability\n",
    "f, axes = plt.subplots(1, 2) # creating subplots for side-by-side comparison\n",
    "sns.countplot(data = primary_dataframe, x = 'SEXO', hue = 'SITUACAO', ax = axes[0]) # count plot for SEXO vs SITUACAO\n",
    "sns.countplot(data = primary_dataframe, x = 'FORMA_AQUISICAO', hue = 'SITUACAO', ax = axes[1]) # count plot for FORMA_AQUISICAO vs SITUACAO\n",
    "plt.show() # displaying the plots"
   ]
  },
  {
   "cell_type": "code",
   "execution_count": null,
   "id": "62e13b21",
   "metadata": {},
   "outputs": [],
   "source": [
    "#Analyzing the graph of the variable DURACAO_CONTRATO compared to the target variable\n",
    "#The analysis shows no significant differences or patterns in these variables\n",
    "\n",
    "plt.rcParams['figure.figsize'] = (10, 3) # setting figure size for plots\n",
    "plt.rcParams['figure.autolayout'] = True # enabling automatic layout adjustment\n",
    "sns.countplot(data = primary_dataframe, x = 'DURACAO_CONTRATO', hue = 'SITUACAO') # count plot for DURACAO_CONTRATO vs SITUACAO\n",
    "plt.show() # displaying the plot"
   ]
  },
  {
   "cell_type": "code",
   "execution_count": null,
   "id": "a6838790",
   "metadata": {},
   "outputs": [],
   "source": [
    "#Analyzing the graph of the variable PRODUCT_NAME compared to the variable TARGET\n",
    "#The analysis shows no significant differences or patterns in these variables\n",
    "plt.rcParams['figure.figsize'] = (17, 5) # setting figure size for plots\n",
    "plt.rcParams['figure.autolayout'] = True # enabling automatic layout adjustment\n",
    "sns.countplot(data = primary_dataframe, x = 'NOME_PRODUTO', hue = 'SITUACAO') # count plot for NOME_PRODUTO vs SITUACAO\n",
    "plt.show()"
   ]
  },
  {
   "cell_type": "code",
   "execution_count": null,
   "id": "f23b13b3",
   "metadata": {},
   "outputs": [],
   "source": [
    "# Analyzing how the target variable is distributed\n",
    "# What we can observe is that there are more active customers than canceled ones\n",
    "plt.rcParams[\"figure.figsize\"] = [12, 5] # setting figure size for plots\n",
    "plt.rcParams[\"figure.autolayout\"] = True # enabling automatic layout adjustment\n",
    "primary_dataframe.SITUACAO.value_counts().plot(kind='bar', title='Active customers vs inactive customers', color = ['green', 'red']) # plotting the count of active vs inactive customers"
   ]
  },
  {
   "cell_type": "markdown",
   "id": "d76ad676",
   "metadata": {},
   "source": [
    "### Analyzing numerical variables"
   ]
  },
  {
   "cell_type": "code",
   "execution_count": null,
   "id": "1b8763ad",
   "metadata": {},
   "outputs": [],
   "source": [
    "#Loading the variables for the plot\n",
    "#We will not use the customer ID [id 0]\n",
    "\n",
    "numerical_variables = [] # list of numerical variables\n",
    "for i in primary_dataframe.columns[1:24].to_list(): # \n",
    "    if primary_dataframe.dtypes[i] == 'int64' or primary_dataframe.dtypes[i] == 'float64':\n",
    "        print(i, ':', primary_dataframe.dtypes[i]) # printing the variable name and its data type\n",
    "        numerical_variables.append(i)"
   ]
  },
  {
   "cell_type": "code",
   "execution_count": null,
   "id": "d59916d2",
   "metadata": {},
   "outputs": [],
   "source": [
    "# Printing the size of the numerical variables list\n",
    "print(f'Numerical variables size: {len(numerical_variables)}') # printing the size of the numerical variables list"
   ]
  },
  {
   "cell_type": "code",
   "execution_count": null,
   "id": "5fed55ee",
   "metadata": {},
   "outputs": [],
   "source": [
    "# Through the boxplots presented below, we can observe possible outliers in the numerical variables\n",
    "# We need to analyze these variables\n",
    "\n",
    "plt.rcParams['figure.figsize'] = (14, 24) # setting figure size for plots\n",
    "plt.rcParams['figure.autolayout'] = True # enabling automatic layout adjustment\n",
    "f, axes = plt.subplots(4, 4) # 4 lines and 4 columns of subplots\n",
    "\n",
    "row = 0\n",
    "column = 0\n",
    "\n",
    "for i in numerical_variables:\n",
    "    sns.boxplot(data = primary_dataframe, y = i, ax = axes[row][column], color = 'green')\n",
    "    column += 1 # moving to the next column\n",
    "    if column == 4: # if we reach the end of the row\n",
    "        row += 1\n",
    "        column = 0\n",
    "plt.show() # displaying the boxplots"
   ]
  },
  {
   "cell_type": "markdown",
   "id": "9947a98e",
   "metadata": {},
   "source": [
    "The variables QT_PAGA_EM_DIA and QT_PC_PAGAS have a number greater than the maximum contract term, so we can assume these outliers were generated by an error and will address them.\n",
    "\n",
    "The variable QT_CHILDREN also has some outliers, such as 17, 23, and 24 children. Let's evaluate these values."
   ]
  },
  {
   "cell_type": "code",
   "execution_count": null,
   "id": "e1794c32",
   "metadata": {},
   "outputs": [],
   "source": [
    "# Since the number of outliers in this variable is small, I can exclude the outliers\n",
    "primary_dataframe.groupby(['QT_FILHOS']).size() # grouping by 'QT_FILHOS' and counting occurrences"
   ]
  },
  {
   "cell_type": "code",
   "execution_count": null,
   "id": "214a3044",
   "metadata": {},
   "outputs": [],
   "source": [
    "# We can see that there are some outliers in the variable QT_FILHOS, such as 17, 23, and 24 children.\n",
    "primary_dataframe.loc[primary_dataframe['QT_FILHOS'] > 2]"
   ]
  },
  {
   "cell_type": "markdown",
   "id": "cecea9ee",
   "metadata": {},
   "source": [
    "## exploratory data analysis\n",
    "\n",
    "We will treat the data identified in exploratory data analyses.\n",
    "\n",
    "- Treat outliers\n",
    "- Treat missing values\n",
    "- Treat the variables QT_PC_PAGA_EM_DIA and QT_PC_PAGAS\n",
    "- Feature engineering (Create new variables) \n",
    "- Apply one hot encoding\n"
   ]
  },
  {
   "cell_type": "code",
   "execution_count": null,
   "id": "24eba3ea",
   "metadata": {},
   "outputs": [],
   "source": [
    "# We will keep the original dataframe and the preprocessed data will be in the dataframe primary_dataframe\n",
    "secondary_dataframe = primary_dataframe.copy() # creating a copy of the primary dataframe for preprocessing\n",
    "secondary_dataframe = primary_dataframe.loc[primary_dataframe['QT_FILHOS'] <= 2] # filtering out the outliers in the QT_FILHOS variable\n",
    "secondary_dataframe.shape # checking the shape of the secondary DataFrame after filtering"
   ]
  },
  {
   "cell_type": "code",
   "execution_count": null,
   "id": "1170e979",
   "metadata": {},
   "outputs": [],
   "source": [
    "secondary_dataframe.groupby(['QT_FILHOS']).size() # grouping by 'QT_FILHOS' and counting occurrences"
   ]
  },
  {
   "cell_type": "code",
   "execution_count": null,
   "id": "85cbf427",
   "metadata": {},
   "outputs": [],
   "source": [
    "print('Children mean', secondary_dataframe['QT_FILHOS'].mean()) # calculating and printing the mean of the QT_FILHOS variable\n",
    "print('Children median', secondary_dataframe['QT_FILHOS'].median()) # calculating and printing the median of the QT_FILHOS variable\n",
    "print('Children mode', secondary_dataframe['QT_FILHOS'].mode()[0]) # calculating and printing the mode of the QT_FILHOS variable"
   ]
  },
  {
   "cell_type": "code",
   "execution_count": null,
   "id": "b422b97f",
   "metadata": {},
   "outputs": [],
   "source": [
    "# Filling the null values with the median of the data\n",
    "secondary_dataframe['QT_FILHOS'] = secondary_dataframe['QT_FILHOS'].fillna((secondary_dataframe['QT_FILHOS']).median())\n",
    "secondary_dataframe.isnull().sum() # checking for missing values in the secondary DataFrame after filling nulls."
   ]
  },
  {
   "cell_type": "code",
   "execution_count": null,
   "id": "3766dbc2",
   "metadata": {},
   "outputs": [],
   "source": [
    "# Replacing the values in the DURACAO_CONTRATO column\n",
    "# We need to replace categorical values with numerical values for better analysis\n",
    "secondary_dataframe['DURACAO_CONTRATO'] = secondary_dataframe['DURACAO_CONTRATO'].replace(['12 Meses'], 12)# replacing the values in the DURACAO_CONTRATO column\n",
    "secondary_dataframe['DURACAO_CONTRATO'] = secondary_dataframe['DURACAO_CONTRATO'].replace(['24 Meses'], 24)\n",
    "secondary_dataframe['DURACAO_CONTRATO'] = secondary_dataframe['DURACAO_CONTRATO'].replace(['36 Meses'], 36)\n",
    "secondary_dataframe['DURACAO_CONTRATO'] = secondary_dataframe['DURACAO_CONTRATO'].replace(['48 Meses'], 48)"
   ]
  },
  {
   "cell_type": "code",
   "execution_count": null,
   "id": "39898dd9",
   "metadata": {},
   "outputs": [],
   "source": [
    "secondary_dataframe.head() # displaying the first few rows of the secondary DataFrame"
   ]
  },
  {
   "cell_type": "code",
   "execution_count": null,
   "id": "78547934",
   "metadata": {},
   "outputs": [],
   "source": [
    "secondary_dataframe.info()"
   ]
  },
  {
   "cell_type": "code",
   "execution_count": null,
   "id": "16089886",
   "metadata": {},
   "outputs": [],
   "source": [
    "# Indentifying the maximum quantity to treat outliers\n",
    "print(secondary_dataframe['QT_PC_PAGAS'].max()) # printing the maximum value of the QT_PC_PAGAS variable\n",
    "print(secondary_dataframe['QT_PC_PAGA_EM_DIA'].max()) # printing the maximum value of the QT_PC_PAGA_EM_DIA variable"
   ]
  },
  {
   "cell_type": "markdown",
   "id": "28d6b328",
   "metadata": {},
   "source": [
    "Varibles that are greater than the maximum term will have the same value as the longest term, which is 48 months"
   ]
  },
  {
   "cell_type": "code",
   "execution_count": null,
   "id": "f0cf030c",
   "metadata": {},
   "outputs": [],
   "source": [
    "# Feature engineering\n",
    "# Creating a new payment level category variable acording to the number of installments paid\n",
    "\n",
    "bins = [-100, 3, 6, 12, 48] # defining bins for categorization\n",
    "labels = ['bad', 'regular', 'good', 'excellent'] # defining labels for the bins\n",
    "secondary_dataframe['NIVEL_PAGAMENTO'] = pd.cut(secondary_dataframe['QT_PC_PAGAS'], bins=bins, labels=labels) # creating the new variable 'NIVEL_PAGAMENTO' based on the number of installments paid\n",
    "pd.value_counts(secondary_dataframe['NIVEL_PAGAMENTO'])# counting the number of occurrences in the 'NIVEL_PAGAMENTO' variable"
   ]
  },
  {
   "cell_type": "code",
   "execution_count": null,
   "id": "eb7b66aa",
   "metadata": {},
   "outputs": [],
   "source": [
    "secondary_dataframe.head() # displaying the first few rows of the secondary DataFrame"
   ]
  },
  {
   "cell_type": "code",
   "execution_count": null,
   "id": "86748b1b",
   "metadata": {},
   "outputs": [],
   "source": [
    "third_dataframe = secondary_dataframe.copy() # creating a copy of the secondary DataFrame for further processing\n",
    "third_dataframe.head() # displaying the first few rows of the third DataFrame"
   ]
  },
  {
   "cell_type": "code",
   "execution_count": null,
   "id": "3284a3ff",
   "metadata": {},
   "outputs": [],
   "source": [
    "# Create encoder\n",
    "# Apply the encoder to the categorical variables\n",
    "lb = LabelEncoder() # initializing the label encoder\n",
    "third_dataframe['SEXO'] = lb.fit_transform(third_dataframe['SEXO']) # encoding the 'SEXO' variable\n",
    "third_dataframe['FORMA_AQUISICAO'] = lb.fit_transform(third_dataframe['FORMA_AQUISICAO']) # encoding the 'FORMA_AQUISICAO' variable\n",
    "third_dataframe['NOME_PRODUTO'] = lb.fit_transform(third_dataframe['NOME_PRODUTO']) # encoding the 'NOME_PRODUTO' variable\n",
    "third_dataframe['NIVEL_PAGAMENTO'] = lb.fit_transform(third_dataframe['NIVEL_PAGAMENTO']) # encoding the 'NIVEL_PAGAMENTO' variable"
   ]
  },
  {
   "cell_type": "code",
   "execution_count": null,
   "id": "d1565e7a",
   "metadata": {},
   "outputs": [],
   "source": [
    "third_dataframe.head() # displaying the first few rows of the third DataFrame after encoding"
   ]
  },
  {
   "cell_type": "code",
   "execution_count": null,
   "id": "458b4c73",
   "metadata": {},
   "outputs": [],
   "source": [
    "third_dataframe.columns.to_list() # displaying the list of columns in the third DataFrame"
   ]
  },
  {
   "cell_type": "code",
   "execution_count": null,
   "id": "b8494155",
   "metadata": {},
   "outputs": [],
   "source": [
    "# Only the columns that will be used in the model will be kept\n",
    "columns = [\n",
    " 'FORMA_AQUISICAO',\n",
    " 'IDADE_CLIENTE',\n",
    " 'SEXO',\n",
    " 'QT_FILHOS',\n",
    " 'DIAS_ATIVO',\n",
    " 'MESES_ATIVO',\n",
    " 'DURACAO_CONTRATO',\n",
    " 'VL_PLANO_ADESAO',\n",
    " 'VL_PLANO_ATUAL',\n",
    " 'NOME_PRODUTO',\n",
    " 'QT_PONTOS_INSTALADOS',\n",
    " 'QT_PC_PAGAS',\n",
    " 'QT_PC_VENCIDAS',\n",
    " 'QT_PC_PAGA_ATRASO',\n",
    " 'QT_PC_PAGA_EM_DIA',\n",
    " 'QT_ACORDO_PAGAMENTO',\n",
    " 'VL_MENSALIDADE_ATRASO',\n",
    " 'VL_MENSALIDADE_DT_AQUISICAO',\n",
    " 'VL_MENSALIDADE_DT_ATUAL', \n",
    " 'NIVEL_PAGAMENTO',\n",
    " 'COD_SITUACAO'\n",
    " ]"
   ]
  },
  {
   "cell_type": "code",
   "execution_count": null,
   "id": "3f0e58a1",
   "metadata": {},
   "outputs": [],
   "source": [
    "third_dataframe = pd.DataFrame(third_dataframe, columns=columns) # creating a new DataFrame with the selected columns"
   ]
  },
  {
   "cell_type": "code",
   "execution_count": null,
   "id": "58bc5fbb",
   "metadata": {},
   "outputs": [],
   "source": [
    "third_dataframe.head() # displaying the first few rows of the third DataFrame after encoding"
   ]
  },
  {
   "cell_type": "code",
   "execution_count": null,
   "id": "bbe9c619",
   "metadata": {},
   "outputs": [],
   "source": [
    "third_dataframe.info() # displaying information about the third DataFrame"
   ]
  },
  {
   "cell_type": "code",
   "execution_count": null,
   "id": "8fd17081",
   "metadata": {},
   "outputs": [],
   "source": [
    "# Analyzing how the target variable is distributed\n",
    "# The target variable is unbalanced, with more active customers than canceled ones\n",
    "plt.rcParams[\"figure.figsize\"] = [12, 5] # setting figure size for plots\n",
    "plt.rcParams[\"figure.autolayout\"] = True # enabling automatic layout adjustment\n",
    "third_dataframe.COD_SITUACAO.value_counts().plot(kind='bar', title='Active customers vs inactive customers', color = ['green', 'red']) # plotting the count of active vs inactive customers"
   ]
  },
  {
   "cell_type": "code",
   "execution_count": null,
   "id": "bab10c0d",
   "metadata": {},
   "outputs": [],
   "source": [
    "# Separating the predictors variables and the target variable\n",
    "predictors = third_dataframe.iloc[:, 0:20]\n",
    "target = third_dataframe.iloc[:, 20]"
   ]
  },
  {
   "cell_type": "code",
   "execution_count": null,
   "id": "9c21e695",
   "metadata": {},
   "outputs": [],
   "source": [
    "predictors.head() # displaying the first few rows of the predictors DataFrame"
   ]
  },
  {
   "cell_type": "code",
   "execution_count": null,
   "id": "411d64d5",
   "metadata": {},
   "outputs": [],
   "source": [
    "target.head() # displaying the first few rows of the target DataFrame"
   ]
  },
  {
   "cell_type": "code",
   "execution_count": null,
   "id": "a578c096",
   "metadata": {},
   "outputs": [],
   "source": [
    "print(\"Shape de predictors:\", predictors.shape)\n",
    "print(\"Shape de target:\", target.shape)"
   ]
  },
  {
   "cell_type": "code",
   "execution_count": null,
   "id": "4d85d347",
   "metadata": {},
   "outputs": [],
   "source": [
    "# A seed to produce the same results every time\n",
    "seed = 100 # setting a seed for reproducibility\n",
    "\n",
    "smote_balancer = SMOTE(random_state = seed) # initializing the SMOTE balancer with a random seed\n",
    "\n",
    "# Applying the SMOTE balancer to the predictors and target variables\n",
    "predictors_res, target_res = smote_balancer.fit_resample(predictors, target) # applying the SMOTE balancer to the predictors and target variables"
   ]
  },
  {
   "cell_type": "code",
   "execution_count": null,
   "id": "72506a2d",
   "metadata": {},
   "outputs": [],
   "source": [
    "plt.rcParams[\"figure.figsize\"] = [10, 5] # setting figure size for plots\n",
    "plt.rcParams[\"figure.autolayout\"] = True # enabling automatic layout adjustment\n",
    "target_res.value_counts().plot(kind='bar', title='Active customers vs inactive customers', color = ['green', 'red']) # plotting the count of active vs inactive customers after balancing"
   ]
  },
  {
   "cell_type": "code",
   "execution_count": null,
   "id": "216d8d20",
   "metadata": {},
   "outputs": [],
   "source": [
    "predictors_res.shape # checking the shape of the predictors DataFrame after balancing"
   ]
  },
  {
   "cell_type": "code",
   "execution_count": null,
   "id": "df001179",
   "metadata": {},
   "outputs": [],
   "source": [
    "target_res.shape # checking the shape of the target DataFrame after balancing"
   ]
  },
  {
   "cell_type": "code",
   "execution_count": null,
   "id": "5ff65a50",
   "metadata": {},
   "outputs": [],
   "source": [
    "X_test, X_train, y_test, y_train = train_test_split(predictors_res, target_res, test_size= 0.3, random_state=seed) # splitting the balanced data into training and testing sets"
   ]
  },
  {
   "cell_type": "code",
   "execution_count": null,
   "id": "314a894b",
   "metadata": {},
   "outputs": [],
   "source": [
    "standardizer = StandardScaler() # initializing the standard scaler\n",
    "X_train_sta = standardizer.fit_transform(X_train) # fitting and transforming the training data\n",
    "X_test_sta = standardizer.transform(X_test) # transforming the test data using the fitted scaler"
   ]
  },
  {
   "cell_type": "code",
   "execution_count": null,
   "id": "173ae277",
   "metadata": {},
   "outputs": [],
   "source": [
    "X_train_sta # displaying the standardized training data"
   ]
  },
  {
   "cell_type": "code",
   "execution_count": null,
   "id": "81ef8115",
   "metadata": {},
   "outputs": [],
   "source": [
    "Kvals = range(3, 10, 2) # defining a range of K values for the KNN algorithm"
   ]
  },
  {
   "cell_type": "code",
   "execution_count": null,
   "id": "1369a291",
   "metadata": {},
   "outputs": [],
   "source": [
    "accuracies = [] # initializing an empty list to store accuracies"
   ]
  },
  {
   "cell_type": "markdown",
   "id": "37743136",
   "metadata": {},
   "source": [
    "### Machine learning model"
   ]
  },
  {
   "cell_type": "code",
   "execution_count": null,
   "id": "41e3375d",
   "metadata": {},
   "outputs": [],
   "source": [
    "start = time.time()\n",
    "\n",
    "for k in Kvals:\n",
    "\n",
    "    modelKNN = KNeighborsClassifier(n_neighbors=k, n_jobs= -1) # initializing the KNN model with k neighbors\n",
    "    modelKNN.fit(X_train_sta, y_train) # fitting the model on the training data\n",
    "\n",
    "    score = modelKNN.score(X_test_sta, y_test) # calculating the accuracy score on the test data\n",
    "    print(f'Accuracy for K={k}: {score}') # printing the accuracy score\n",
    "    accuracies.append(score) # appending the accuracy score to the list\n",
    "\n",
    "end = time.time()\n",
    "\n",
    "print(f'Time taken: {end - start} seconds') # printing the time taken to run the loop"
   ]
  }
 ],
 "metadata": {
  "kernelspec": {
   "display_name": "Python 3 (ipykernel)",
   "language": "python",
   "name": "python3"
  },
  "language_info": {
   "codemirror_mode": {
    "name": "ipython",
    "version": 3
   },
   "file_extension": ".py",
   "mimetype": "text/x-python",
   "name": "python",
   "nbconvert_exporter": "python",
   "pygments_lexer": "ipython3",
   "version": "3.13.3"
  }
 },
 "nbformat": 4,
 "nbformat_minor": 5
}
