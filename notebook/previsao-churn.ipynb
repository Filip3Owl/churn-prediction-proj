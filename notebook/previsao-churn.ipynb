{
 "cells": [
  {
   "cell_type": "markdown",
   "id": "763d323e",
   "metadata": {},
   "source": [
    "# Machine Learning Model - cable TV cancellation sales forecast\n",
    "\n",
    "### What I will do:\n",
    "\n",
    "- Exploratory analysis of categorical and numerical variables using various graphs;\n",
    "- Data processing and attribute engineering;\n",
    "- Identify and test for outliers and missing values;\n",
    "- Using functions from the Pandas package;\n",
    "- One hot encoding and data standardization;\n",
    "- Create, train, and evaluate the machine learning algorithm."
   ]
  },
  {
   "cell_type": "code",
   "execution_count": 2,
   "id": "369dd786",
   "metadata": {},
   "outputs": [],
   "source": [
    "#importing libraries\n",
    "\n",
    "import numpy as np # numerical operations\n",
    "import pandas as pd # data manipulation and analysis\n",
    "import time # time tracking\n",
    "import matplotlib.pyplot as plt # data visualization\n",
    "import seaborn as sns # statistical data visualization\n",
    "from sklearn.model_selection import train_test_split # splitting datasets\n",
    "from sklearn.preprocessing import StandardScaler # feature scaling\n",
    "from sklearn.preprocessing import LabelEncoder # encoding categorical variables\n",
    "from sklearn.metrics import accuracy_score # model evaluation\n",
    "from sklearn.neighbors import KNeighborsClassifier # K-Nearest Neighbors algorithm\n",
    "from imblearn import under_sampling, over_sampling # handling imbalanced datasets\n",
    "from imblearn.over_sampling import SMOTE # Synthetic Minority Over-sampling Technique\n",
    "\n",
    "import warnings # suppressing warnings\n",
    "warnings.filterwarnings('ignore') # setting display options for pandas\n",
    "pd.set_option('display.max_columns', None) # show all columns in DataFrame\n",
    "pd.set_option('display.max_rows', None) # show all rows in DataFrame"
   ]
  }
 ],
 "metadata": {
  "kernelspec": {
   "display_name": ".venv",
   "language": "python",
   "name": "python3"
  },
  "language_info": {
   "codemirror_mode": {
    "name": "ipython",
    "version": 3
   },
   "file_extension": ".py",
   "mimetype": "text/x-python",
   "name": "python",
   "nbconvert_exporter": "python",
   "pygments_lexer": "ipython3",
   "version": "3.13.3"
  }
 },
 "nbformat": 4,
 "nbformat_minor": 5
}
